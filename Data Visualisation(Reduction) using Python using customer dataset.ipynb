{
 "cells": [
  {
   "cell_type": "markdown",
   "metadata": {
    "colab_type": "text",
    "id": "OtpVnFVShucu"
   },
   "source": [
    "**IMPORTING NECCESSARY LIBRARIES**"
   ]
  },
  {
   "cell_type": "code",
   "execution_count": 1,
   "metadata": {
    "colab": {},
    "colab_type": "code",
    "id": "Wv98IgjLg8Kz"
   },
   "outputs": [],
   "source": [
    "import numpy as np\n",
    "import pandas as pd\n",
    "import matplotlib.pyplot as plt\n",
    "from sklearn.preprocessing import StandardScaler\n",
    "from sklearn.decomposition import PCA\n",
    "from sklearn.cluster import KMeans\n",
    "from sklearn.manifold import TSNE\n",
    "import plotly.graph_objs as go\n",
    "import plotly .offline as offline\n",
    "import plotly.figure_factory as ff"
   ]
  },
  {
   "cell_type": "markdown",
   "metadata": {
    "colab_type": "text",
    "id": "ZVAahnVNh4fE"
   },
   "source": [
    "**IMPORTING AND EXAMINING DATASET**"
   ]
  },
  {
   "cell_type": "code",
   "execution_count": 2,
   "metadata": {
    "colab": {},
    "colab_type": "code",
    "id": "kkpPSHQpntfK"
   },
   "outputs": [],
   "source": [
    "##LOAD THE DATA\n",
    "df=pd.read_csv('customers.csv')"
   ]
  },
  {
   "cell_type": "code",
   "execution_count": 3,
   "metadata": {
    "colab": {},
    "colab_type": "code",
    "id": "DMScKnWaneXn"
   },
   "outputs": [
    {
     "name": "stdout",
     "output_type": "stream",
     "text": [
      "   gender  SeniorCitizen Partner Dependents  tenure PhoneService  \\\n",
      "0  Female              0     Yes         No       1           No   \n",
      "1    Male              0      No         No      34          Yes   \n",
      "2    Male              0      No         No       2          Yes   \n",
      "3    Male              0      No         No      45           No   \n",
      "4  Female              0      No         No       2          Yes   \n",
      "\n",
      "      MultipleLines InternetService OnlineSecurity OnlineBackup  \\\n",
      "0  No phone service             DSL             No          Yes   \n",
      "1                No             DSL            Yes           No   \n",
      "2                No             DSL            Yes          Yes   \n",
      "3  No phone service             DSL            Yes           No   \n",
      "4                No     Fiber optic             No           No   \n",
      "\n",
      "  DeviceProtection TechSupport StreamingTV StreamingMovies        Contract  \\\n",
      "0               No          No          No              No  Month-to-month   \n",
      "1              Yes          No          No              No        One year   \n",
      "2               No          No          No              No  Month-to-month   \n",
      "3              Yes         Yes          No              No        One year   \n",
      "4               No          No          No              No  Month-to-month   \n",
      "\n",
      "  PaperlessBilling              PaymentMethod  MonthlyCharges  TotalCharges  \n",
      "0              Yes           Electronic check           29.85         29.85  \n",
      "1               No               Mailed check           56.95       1889.50  \n",
      "2              Yes               Mailed check           53.85        108.15  \n",
      "3               No  Bank transfer (automatic)           42.30       1840.75  \n",
      "4              Yes           Electronic check           70.70        151.65  \n"
     ]
    }
   ],
   "source": [
    "#view first five rows of the data sets\n",
    "print(df.head(5))"
   ]
  },
  {
   "cell_type": "code",
   "execution_count": 4,
   "metadata": {
    "colab": {},
    "colab_type": "code",
    "id": "EuUuK82IneeH"
   },
   "outputs": [
    {
     "name": "stdout",
     "output_type": "stream",
     "text": [
      "      gender  SeniorCitizen Partner Dependents  tenure PhoneService  \\\n",
      "7027    Male              0     Yes        Yes      24          Yes   \n",
      "7028  Female              0     Yes        Yes      72          Yes   \n",
      "7029  Female              0     Yes        Yes      11           No   \n",
      "7030    Male              1     Yes         No       4          Yes   \n",
      "7031    Male              0      No         No      66          Yes   \n",
      "\n",
      "         MultipleLines InternetService OnlineSecurity OnlineBackup  \\\n",
      "7027               Yes             DSL            Yes           No   \n",
      "7028               Yes     Fiber optic             No          Yes   \n",
      "7029  No phone service             DSL            Yes           No   \n",
      "7030               Yes     Fiber optic             No           No   \n",
      "7031                No     Fiber optic            Yes           No   \n",
      "\n",
      "     DeviceProtection TechSupport StreamingTV StreamingMovies        Contract  \\\n",
      "7027              Yes         Yes         Yes             Yes        One year   \n",
      "7028              Yes          No         Yes             Yes        One year   \n",
      "7029               No          No          No              No  Month-to-month   \n",
      "7030               No          No          No              No  Month-to-month   \n",
      "7031              Yes         Yes         Yes             Yes        Two year   \n",
      "\n",
      "     PaperlessBilling              PaymentMethod  MonthlyCharges  TotalCharges  \n",
      "7027              Yes               Mailed check           84.80       1990.50  \n",
      "7028              Yes    Credit card (automatic)          103.20       7362.90  \n",
      "7029              Yes           Electronic check           29.60        346.45  \n",
      "7030              Yes               Mailed check           74.40        306.60  \n",
      "7031              Yes  Bank transfer (automatic)          105.65       6844.50  \n"
     ]
    }
   ],
   "source": [
    "#view last five  rows of the datasets\n",
    "print(df.tail(5))"
   ]
  },
  {
   "cell_type": "code",
   "execution_count": 5,
   "metadata": {
    "colab": {},
    "colab_type": "code",
    "id": "3a2kIRnwnXCW"
   },
   "outputs": [
    {
     "name": "stdout",
     "output_type": "stream",
     "text": [
      "(7032, 19)\n"
     ]
    }
   ],
   "source": [
    "##view the shape of dataset\n",
    "print(df.shape)"
   ]
  },
  {
   "cell_type": "code",
   "execution_count": 6,
   "metadata": {
    "colab": {},
    "colab_type": "code",
    "id": "2IgMe9J5nXI6"
   },
   "outputs": [
    {
     "name": "stdout",
     "output_type": "stream",
     "text": [
      "<class 'pandas.core.frame.DataFrame'>\n",
      "RangeIndex: 7032 entries, 0 to 7031\n",
      "Data columns (total 19 columns):\n",
      " #   Column            Non-Null Count  Dtype  \n",
      "---  ------            --------------  -----  \n",
      " 0   gender            7032 non-null   object \n",
      " 1   SeniorCitizen     7032 non-null   int64  \n",
      " 2   Partner           7032 non-null   object \n",
      " 3   Dependents        7032 non-null   object \n",
      " 4   tenure            7032 non-null   int64  \n",
      " 5   PhoneService      7032 non-null   object \n",
      " 6   MultipleLines     7032 non-null   object \n",
      " 7   InternetService   7032 non-null   object \n",
      " 8   OnlineSecurity    7032 non-null   object \n",
      " 9   OnlineBackup      7032 non-null   object \n",
      " 10  DeviceProtection  7032 non-null   object \n",
      " 11  TechSupport       7032 non-null   object \n",
      " 12  StreamingTV       7032 non-null   object \n",
      " 13  StreamingMovies   7032 non-null   object \n",
      " 14  Contract          7032 non-null   object \n",
      " 15  PaperlessBilling  7032 non-null   object \n",
      " 16  PaymentMethod     7032 non-null   object \n",
      " 17  MonthlyCharges    7032 non-null   float64\n",
      " 18  TotalCharges      7032 non-null   float64\n",
      "dtypes: float64(2), int64(2), object(15)\n",
      "memory usage: 1.0+ MB\n",
      "None\n"
     ]
    }
   ],
   "source": [
    "##get a concise summary of the dataframe\n",
    "print(df.info())"
   ]
  },
  {
   "cell_type": "code",
   "execution_count": 7,
   "metadata": {
    "colab": {},
    "colab_type": "code",
    "id": "dUJ7HG9jnPsC"
   },
   "outputs": [
    {
     "name": "stdout",
     "output_type": "stream",
     "text": [
      "       SeniorCitizen       tenure  MonthlyCharges  TotalCharges\n",
      "count    7032.000000  7032.000000     7032.000000   7032.000000\n",
      "mean        0.162400    32.421786       64.798208   2283.300441\n",
      "std         0.368844    24.545260       30.085974   2266.771362\n",
      "min         0.000000     1.000000       18.250000     18.800000\n",
      "25%         0.000000     9.000000       35.587500    401.450000\n",
      "50%         0.000000    29.000000       70.350000   1397.475000\n",
      "75%         0.000000    55.000000       89.862500   3794.737500\n",
      "max         1.000000    72.000000      118.750000   8684.800000\n"
     ]
    }
   ],
   "source": [
    "##compute a summary of statistics pertaining to the DataFrame columns using describe()\n",
    "print(df.describe())"
   ]
  },
  {
   "cell_type": "code",
   "execution_count": 8,
   "metadata": {
    "colab": {},
    "colab_type": "code",
    "id": "clR3gROJnPyC"
   },
   "outputs": [
    {
     "data": {
      "text/plain": [
       "'corrheatmap.html'"
      ]
     },
     "execution_count": 8,
     "metadata": {},
     "output_type": "execute_result"
    }
   ],
   "source": [
    "# Plotting Correlation Heatmap\n",
    "corr = df.corr()\n",
    "figure = ff.create_annotated_heatmap(\n",
    "    z=corr.values,\n",
    "    x=list(corr.columns),\n",
    "    y=list(corr.index),\n",
    "    annotation_text=corr.round(2).values,\n",
    "    showscale=True)\n",
    "offline.plot(figure,filename='corrheatmap.html')"
   ]
  },
  {
   "cell_type": "markdown",
   "metadata": {
    "colab_type": "text",
    "id": "8mdB09I5nLc3"
   },
   "source": [
    "**PREPARING DATA**"
   ]
  },
  {
   "cell_type": "code",
   "execution_count": 9,
   "metadata": {
    "colab": {},
    "colab_type": "code",
    "id": "KWl6H6_pl0zx"
   },
   "outputs": [],
   "source": [
    "#Droping highly corrolated variables with causation\n",
    "#from the heatmap, it is adviceable to drop the variable 'TotalCharges'\n",
    "#because it corrolated highly with the variables 'tenure', MonthlyCharges' and has causaion.\n",
    "df=df.drop(['TotalCharges'],axis=1)"
   ]
  },
  {
   "cell_type": "code",
   "execution_count": 10,
   "metadata": {
    "colab": {},
    "colab_type": "code",
    "id": "qjMJQH_Gmn8r"
   },
   "outputs": [
    {
     "name": "stdout",
     "output_type": "stream",
     "text": [
      "<class 'pandas.core.frame.DataFrame'>\n",
      "RangeIndex: 7032 entries, 0 to 7031\n",
      "Data columns (total 18 columns):\n",
      " #   Column            Non-Null Count  Dtype  \n",
      "---  ------            --------------  -----  \n",
      " 0   gender            7032 non-null   object \n",
      " 1   SeniorCitizen     7032 non-null   int64  \n",
      " 2   Partner           7032 non-null   object \n",
      " 3   Dependents        7032 non-null   object \n",
      " 4   tenure            7032 non-null   int64  \n",
      " 5   PhoneService      7032 non-null   object \n",
      " 6   MultipleLines     7032 non-null   object \n",
      " 7   InternetService   7032 non-null   object \n",
      " 8   OnlineSecurity    7032 non-null   object \n",
      " 9   OnlineBackup      7032 non-null   object \n",
      " 10  DeviceProtection  7032 non-null   object \n",
      " 11  TechSupport       7032 non-null   object \n",
      " 12  StreamingTV       7032 non-null   object \n",
      " 13  StreamingMovies   7032 non-null   object \n",
      " 14  Contract          7032 non-null   object \n",
      " 15  PaperlessBilling  7032 non-null   object \n",
      " 16  PaymentMethod     7032 non-null   object \n",
      " 17  MonthlyCharges    7032 non-null   float64\n",
      "dtypes: float64(1), int64(2), object(15)\n",
      "memory usage: 989.0+ KB\n",
      "None\n"
     ]
    }
   ],
   "source": [
    "print(df.info())"
   ]
  },
  {
   "cell_type": "code",
   "execution_count": 11,
   "metadata": {
    "colab": {},
    "colab_type": "code",
    "id": "13DI-rdimn41"
   },
   "outputs": [
    {
     "data": {
      "text/plain": [
       "'corrheatmap1.html'"
      ]
     },
     "execution_count": 11,
     "metadata": {},
     "output_type": "execute_result"
    }
   ],
   "source": [
    "# Plotting Correlation Heatmap\n",
    "corr = df.corr()\n",
    "figure = ff.create_annotated_heatmap(\n",
    "    z=corr.values,\n",
    "    x=list(corr.columns),\n",
    "    y=list(corr.index),\n",
    "    annotation_text=corr.round(2).values,\n",
    "    showscale=True)\n",
    "offline.plot(figure,filename='corrheatmap1.html')"
   ]
  },
  {
   "cell_type": "code",
   "execution_count": 12,
   "metadata": {
    "colab": {},
    "colab_type": "code",
    "id": "qk-7p6vfmn28"
   },
   "outputs": [
    {
     "name": "stdout",
     "output_type": "stream",
     "text": [
      "<class 'pandas.core.frame.DataFrame'>\n",
      "RangeIndex: 7032 entries, 0 to 7031\n",
      "Data columns (total 44 columns):\n",
      " #   Column                                   Non-Null Count  Dtype  \n",
      "---  ------                                   --------------  -----  \n",
      " 0   SeniorCitizen                            7032 non-null   int64  \n",
      " 1   tenure                                   7032 non-null   int64  \n",
      " 2   MonthlyCharges                           7032 non-null   float64\n",
      " 3   gender_Female                            7032 non-null   uint8  \n",
      " 4   gender_Male                              7032 non-null   uint8  \n",
      " 5   Partner_No                               7032 non-null   uint8  \n",
      " 6   Partner_Yes                              7032 non-null   uint8  \n",
      " 7   Dependents_No                            7032 non-null   uint8  \n",
      " 8   Dependents_Yes                           7032 non-null   uint8  \n",
      " 9   PhoneService_No                          7032 non-null   uint8  \n",
      " 10  PhoneService_Yes                         7032 non-null   uint8  \n",
      " 11  MultipleLines_No                         7032 non-null   uint8  \n",
      " 12  MultipleLines_No phone service           7032 non-null   uint8  \n",
      " 13  MultipleLines_Yes                        7032 non-null   uint8  \n",
      " 14  InternetService_DSL                      7032 non-null   uint8  \n",
      " 15  InternetService_Fiber optic              7032 non-null   uint8  \n",
      " 16  InternetService_No                       7032 non-null   uint8  \n",
      " 17  OnlineSecurity_No                        7032 non-null   uint8  \n",
      " 18  OnlineSecurity_No internet service       7032 non-null   uint8  \n",
      " 19  OnlineSecurity_Yes                       7032 non-null   uint8  \n",
      " 20  OnlineBackup_No                          7032 non-null   uint8  \n",
      " 21  OnlineBackup_No internet service         7032 non-null   uint8  \n",
      " 22  OnlineBackup_Yes                         7032 non-null   uint8  \n",
      " 23  DeviceProtection_No                      7032 non-null   uint8  \n",
      " 24  DeviceProtection_No internet service     7032 non-null   uint8  \n",
      " 25  DeviceProtection_Yes                     7032 non-null   uint8  \n",
      " 26  TechSupport_No                           7032 non-null   uint8  \n",
      " 27  TechSupport_No internet service          7032 non-null   uint8  \n",
      " 28  TechSupport_Yes                          7032 non-null   uint8  \n",
      " 29  StreamingTV_No                           7032 non-null   uint8  \n",
      " 30  StreamingTV_No internet service          7032 non-null   uint8  \n",
      " 31  StreamingTV_Yes                          7032 non-null   uint8  \n",
      " 32  StreamingMovies_No                       7032 non-null   uint8  \n",
      " 33  StreamingMovies_No internet service      7032 non-null   uint8  \n",
      " 34  StreamingMovies_Yes                      7032 non-null   uint8  \n",
      " 35  Contract_Month-to-month                  7032 non-null   uint8  \n",
      " 36  Contract_One year                        7032 non-null   uint8  \n",
      " 37  Contract_Two year                        7032 non-null   uint8  \n",
      " 38  PaperlessBilling_No                      7032 non-null   uint8  \n",
      " 39  PaperlessBilling_Yes                     7032 non-null   uint8  \n",
      " 40  PaymentMethod_Bank transfer (automatic)  7032 non-null   uint8  \n",
      " 41  PaymentMethod_Credit card (automatic)    7032 non-null   uint8  \n",
      " 42  PaymentMethod_Electronic check           7032 non-null   uint8  \n",
      " 43  PaymentMethod_Mailed check               7032 non-null   uint8  \n",
      "dtypes: float64(1), int64(2), uint8(41)\n",
      "memory usage: 446.5 KB\n",
      "None\n"
     ]
    }
   ],
   "source": [
    "# Converting Categorical features into Numerical features\n",
    "categorical_features= ['gender', 'Partner', 'Dependents', 'PhoneService', 'MultipleLines', 'InternetService', 'OnlineSecurity', 'OnlineBackup', 'DeviceProtection', 'TechSupport', 'StreamingTV', 'StreamingMovies', 'Contract', 'PaperlessBilling', 'PaymentMethod']\n",
    "df_final = pd.get_dummies(df, columns = categorical_features)\n",
    "print(df_final.info())"
   ]
  },
  {
   "cell_type": "code",
   "execution_count": 13,
   "metadata": {
    "colab": {},
    "colab_type": "code",
    "id": "H-hvyu-6l594"
   },
   "outputs": [
    {
     "name": "stdout",
     "output_type": "stream",
     "text": [
      "   SeniorCitizen  tenure  MonthlyCharges  gender_Female  gender_Male  \\\n",
      "0              0       1           29.85              1            0   \n",
      "1              0      34           56.95              0            1   \n",
      "2              0       2           53.85              0            1   \n",
      "3              0      45           42.30              0            1   \n",
      "4              0       2           70.70              1            0   \n",
      "\n",
      "   Partner_No  Partner_Yes  Dependents_No  Dependents_Yes  PhoneService_No  \\\n",
      "0           0            1              1               0                1   \n",
      "1           1            0              1               0                0   \n",
      "2           1            0              1               0                0   \n",
      "3           1            0              1               0                1   \n",
      "4           1            0              1               0                0   \n",
      "\n",
      "   ...  StreamingMovies_Yes  Contract_Month-to-month  Contract_One year  \\\n",
      "0  ...                    0                        1                  0   \n",
      "1  ...                    0                        0                  1   \n",
      "2  ...                    0                        1                  0   \n",
      "3  ...                    0                        0                  1   \n",
      "4  ...                    0                        1                  0   \n",
      "\n",
      "   Contract_Two year  PaperlessBilling_No  PaperlessBilling_Yes  \\\n",
      "0                  0                    0                     1   \n",
      "1                  0                    1                     0   \n",
      "2                  0                    0                     1   \n",
      "3                  0                    1                     0   \n",
      "4                  0                    0                     1   \n",
      "\n",
      "   PaymentMethod_Bank transfer (automatic)  \\\n",
      "0                                        0   \n",
      "1                                        0   \n",
      "2                                        0   \n",
      "3                                        1   \n",
      "4                                        0   \n",
      "\n",
      "   PaymentMethod_Credit card (automatic)  PaymentMethod_Electronic check  \\\n",
      "0                                      0                               1   \n",
      "1                                      0                               0   \n",
      "2                                      0                               0   \n",
      "3                                      0                               0   \n",
      "4                                      0                               1   \n",
      "\n",
      "   PaymentMethod_Mailed check  \n",
      "0                           0  \n",
      "1                           1  \n",
      "2                           1  \n",
      "3                           0  \n",
      "4                           0  \n",
      "\n",
      "[5 rows x 44 columns]\n"
     ]
    }
   ],
   "source": [
    "print(df_final.head(5))"
   ]
  },
  {
   "cell_type": "code",
   "execution_count": 14,
   "metadata": {
    "colab": {},
    "colab_type": "code",
    "id": "OftloZiFl6bJ"
   },
   "outputs": [],
   "source": [
    "#Dividing data into subset\n",
    "#PERSONAL DATA\n",
    "Biodata= df_final [['gender_Female', 'gender_Male', 'SeniorCitizen', 'Partner_No','Partner_Yes', 'Dependents_No', 'Dependents_Yes']]\n",
    "\n",
    "\n",
    "#CONTRACT DATA\n",
    "#To provide customer contract information\n",
    "Contract_Info= df_final [['Contract_Month-to-month', 'Contract_One year', 'Contract_Two year', 'PaperlessBilling_No', 'PaperlessBilling_Yes', 'PaymentMethod_Bank transfer (automatic)', 'PaymentMethod_Credit card (automatic)', 'PaymentMethod_Electronic check', 'PaymentMethod_Mailed check', 'MonthlyCharges']]\n",
    "\n",
    "\n",
    "\n",
    "#SECURITY DATA\n",
    "Security_Info= df_final [['InternetService_DSL', 'InternetService_Fiber optic', 'InternetService_No', 'OnlineSecurity_No', 'OnlineSecurity_No internet service', 'OnlineSecurity_Yes', 'OnlineBackup_No', 'OnlineBackup_No internet service', 'OnlineBackup_Yes','DeviceProtection_No','DeviceProtection_No internet service', 'DeviceProtection_Yes']]\n",
    "\n",
    "\n",
    "\n",
    "#STREAMING INFORMATION\n",
    "#Shows how much customers stream based on technical support, internet service providers and security\n",
    "Streaming_Info= df_final[['TechSupport_No','TechSupport_No internet service', 'TechSupport_Yes', 'StreamingTV_No', 'StreamingTV_No internet service', 'StreamingTV_Yes', 'StreamingMovies_No', 'StreamingMovies_No internet service', 'StreamingMovies_Yes', 'InternetService_DSL', 'InternetService_Fiber optic', 'InternetService_No','OnlineSecurity_No', 'OnlineSecurity_No internet service', 'OnlineSecurity_Yes', 'OnlineBackup_No', 'OnlineBackup_No internet service', 'OnlineBackup_Yes','DeviceProtection_No','DeviceProtection_No internet service', 'DeviceProtection_Yes']]\n",
    "\n",
    "\n",
    "#SUBSRIPTION INFORMATION\n",
    "Sub_Info= df_final[['PhoneService_No', 'PhoneService_Yes', 'MultipleLines_No', 'MultipleLines_No phone service', 'MultipleLines_Yes', 'Contract_Month-to-month', 'Contract_One year', 'Contract_Two year', 'PaymentMethod_Bank transfer (automatic)', 'PaymentMethod_Credit card (automatic)', 'PaymentMethod_Electronic check', 'PaymentMethod_Mailed check']]\n",
    "\n",
    "#TENURE BASED ON CUSTOMER SATISFACTION\n",
    "#With the assumption that tenure is based on how satisfied a customer is with a service provider and its charges\n",
    "#Are customers more satisfied using a certain internet provider?\n",
    "Tenure_Info= df_final[['tenure', 'MonthlyCharges', 'InternetService_DSL', 'InternetService_Fiber optic', 'InternetService_No', 'OnlineSecurity_No', 'OnlineSecurity_No internet service', 'OnlineSecurity_Yes']]\n",
    "\n",
    "\n",
    "\n",
    "\n",
    "#TENURE/SECURITY\n",
    "#Do customers with online security, online backup and device protection pay more?\n",
    "Sec_ten= df_final[['OnlineSecurity_No', 'OnlineSecurity_No internet service', 'OnlineSecurity_Yes', 'OnlineBackup_No', 'OnlineBackup_No internet service', 'OnlineBackup_Yes', 'DeviceProtection_No', 'DeviceProtection_No internet service', 'DeviceProtection_Yes', 'tenure']]\n",
    "\n",
    "\n",
    "\n",
    "#Customer loyalty\n",
    "loyalty= df_final[['PhoneService_No', 'PhoneService_Yes', 'MultipleLines_No', 'MultipleLines_No phone service', 'MultipleLines_Yes', 'InternetService_DSL', 'InternetService_Fiber optic', 'InternetService_No', 'tenure']]"
   ]
  },
  {
   "cell_type": "code",
   "execution_count": 15,
   "metadata": {
    "colab": {},
    "colab_type": "code",
    "id": "_1EbGlmal6Gg"
   },
   "outputs": [],
   "source": [
    "# Normalizing numerical features so that each feature has mean 0 and variance 1\n",
    "feature_scaler = StandardScaler()\n",
    "X1 = feature_scaler.fit_transform(Biodata)\n",
    "X2 = feature_scaler.fit_transform(Contract_Info)\n",
    "X3 = feature_scaler.fit_transform(Security_Info)\n",
    "X4 = feature_scaler.fit_transform(Streaming_Info)\n",
    "X5 = feature_scaler.fit_transform(Tenure_Info)\n",
    "X6 = feature_scaler.fit_transform(Sec_ten)\n",
    "X7 = feature_scaler.fit_transform(loyalty)\n",
    "X8 = feature_scaler.fit_transform(Sub_Info)"
   ]
  },
  {
   "cell_type": "markdown",
   "metadata": {
    "colab_type": "text",
    "id": "o8qvstr0l2rs"
   },
   "source": [
    "**DIMENSIONALITY REDUCTION AND CLUSTERING**"
   ]
  },
  {
   "cell_type": "code",
   "execution_count": 16,
   "metadata": {
    "colab": {},
    "colab_type": "code",
    "id": "RKoyhr4zl0yV"
   },
   "outputs": [],
   "source": [
    "#Figure out clusters using Elbow plot\n",
    "#identfy clusters and create labels using Kmeans\n",
    "#Analyse Subsets unsing t_sne"
   ]
  },
  {
   "cell_type": "markdown",
   "metadata": {
    "colab_type": "text",
    "id": "KEZPoXIdjzYk"
   },
   "source": [
    "**SUBSET 1**"
   ]
  },
  {
   "cell_type": "code",
   "execution_count": 17,
   "metadata": {
    "colab": {},
    "colab_type": "code",
    "id": "4sjtEwCwjyza"
   },
   "outputs": [
    {
     "data": {
      "image/png": "[encoded data removed]",
      "text/plain": [
       "<Figure size 432x288 with 1 Axes>"
      ]
     },
     "metadata": {
      "needs_background": "light"
     },
     "output_type": "display_data"
    }
   ],
   "source": [
    "#BIODATA\n",
    "# Finding the number of clusters (K) - Elbow Plot Method\n",
    "inertia = []\n",
    "for i in range(1,11):\n",
    "    kmeans = KMeans(n_clusters = i, random_state = 100)\n",
    "    kmeans.fit(X1)\n",
    "    inertia.append(kmeans.inertia_)\n",
    "\n",
    "plt.plot(range(1, 11), inertia)\n",
    "plt.title('The Elbow Plot')\n",
    "plt.xlabel('Number of clusters')\n",
    "plt.ylabel('Inertia')\n",
    "plt.show()"
   ]
  },
  {
   "cell_type": "code",
   "execution_count": 18,
   "metadata": {
    "colab": {},
    "colab_type": "code",
    "id": "LDbj8OJvjyta"
   },
   "outputs": [
    {
     "data": {
      "text/plain": [
       "KMeans(algorithm='auto', copy_x=True, init='k-means++', max_iter=300,\n",
       "       n_clusters=2, n_init=10, n_jobs=None, precompute_distances='auto',\n",
       "       random_state=None, tol=0.0001, verbose=0)"
      ]
     },
     "execution_count": 18,
     "metadata": {},
     "output_type": "execute_result"
    }
   ],
   "source": [
    "#K-means\n",
    "kmeans = KMeans(n_clusters = 2)\n",
    "kmeans.fit(X1)"
   ]
  },
  {
   "cell_type": "code",
   "execution_count": 19,
   "metadata": {
    "colab": {},
    "colab_type": "code",
    "id": "5hlFxcw9jysL"
   },
   "outputs": [
    {
     "data": {
      "text/plain": [
       "'Biodata.html'"
      ]
     },
     "execution_count": 19,
     "metadata": {},
     "output_type": "execute_result"
    }
   ],
   "source": [
    "tsne = TSNE(n_components = 2, perplexity =50,n_iter=2000)\n",
    "x_tsne = tsne.fit_transform(X1)\n",
    "\n",
    "gender = list(df['gender'])\n",
    "sencit = list(df['SeniorCitizen'])\n",
    "partner = list(df['Partner'])\n",
    "dep = list(df['Dependents'])\n",
    "\n",
    "\n",
    "data = [go.Scatter(x=x_tsne[:,0], y=x_tsne[:,1], mode='markers',\n",
    "                     marker = dict(color=kmeans.labels_, colorscale='Rainbow', opacity=0.5),\n",
    "                         text=[f'gender: {a}; sencit: {b}; partner: {c}, dep: {d}' for a,b,c,d in list (zip (gender,sencit,partner,dep))],\n",
    "                          hoverinfo='text')]\n",
    "\n",
    "\n",
    "\n",
    "layout = go.Layout(title = 'Biodata', width = 1000, height = 700,\n",
    "                    xaxis = dict(title='First Dimension'),\n",
    "                    yaxis = dict(title='Second Dimension'))\n",
    "fig = go.Figure(data=data, layout=layout)\n",
    "offline.plot(fig,filename='Biodata.html')"
   ]
  },
  {
   "cell_type": "markdown",
   "metadata": {
    "colab_type": "text",
    "id": "HwS4PfE9jdCf"
   },
   "source": [
    "**SUBSET 2**"
   ]
  },
  {
   "cell_type": "code",
   "execution_count": 20,
   "metadata": {
    "colab": {},
    "colab_type": "code",
    "id": "t7ODv0_ijb3E"
   },
   "outputs": [
    {
     "data": {
      "image/png": "[encoded data removed]",
      "text/plain": [
       "<Figure size 432x288 with 1 Axes>"
      ]
     },
     "metadata": {
      "needs_background": "light"
     },
     "output_type": "display_data"
    }
   ],
   "source": [
    "#Contract_Info\n",
    "# Finding the number of clusters (K) - Elbow Plot Method\n",
    "inertia = []\n",
    "for i in range(1,11):\n",
    "    kmeans = KMeans(n_clusters = i, random_state = 100)\n",
    "    kmeans.fit(X2)\n",
    "    inertia.append(kmeans.inertia_)\n",
    "\n",
    "plt.plot(range(1, 11), inertia)\n",
    "plt.title('The Elbow Plot')\n",
    "plt.xlabel('Number of clusters')\n",
    "plt.ylabel('Inertia')\n",
    "plt.show()"
   ]
  },
  {
   "cell_type": "code",
   "execution_count": 21,
   "metadata": {
    "colab": {},
    "colab_type": "code",
    "id": "wlSkMDrejcUo"
   },
   "outputs": [
    {
     "data": {
      "text/plain": [
       "KMeans(algorithm='auto', copy_x=True, init='k-means++', max_iter=300,\n",
       "       n_clusters=2, n_init=10, n_jobs=None, precompute_distances='auto',\n",
       "       random_state=None, tol=0.0001, verbose=0)"
      ]
     },
     "execution_count": 21,
     "metadata": {},
     "output_type": "execute_result"
    }
   ],
   "source": [
    "#K-means\n",
    "kmeans = KMeans(n_clusters = 2)\n",
    "kmeans.fit(X2)"
   ]
  },
  {
   "cell_type": "code",
   "execution_count": 22,
   "metadata": {
    "colab": {},
    "colab_type": "code",
    "id": "Abwv2-w4jb9n"
   },
   "outputs": [
    {
     "data": {
      "text/plain": [
       "'Contract_Info.html'"
      ]
     },
     "execution_count": 22,
     "metadata": {},
     "output_type": "execute_result"
    }
   ],
   "source": [
    "tsne = TSNE(n_components = 2, perplexity =50,n_iter=2000)\n",
    "x_tsne = tsne.fit_transform(X2)\n",
    "\n",
    "Cont = list(df['Contract'])\n",
    "Billing = list(df['PaperlessBilling'])\n",
    "paymetd = list(df['PaymentMethod'])\n",
    "monchrg = list(df['MonthlyCharges'])\n",
    "\n",
    "\n",
    "data = [go.Scatter(x=x_tsne[:,0], y=x_tsne[:,1], mode='markers',\n",
    "                    marker = dict(color=kmeans.labels_, colorscale='Rainbow', opacity=0.5),\n",
    "                   text = [f'Cont:{a}; Billing:{b}; paymetd:{c}; monchrg:{d}' for a,b,c,d in list (zip(Cont,Billing,paymetd,monchrg))],\n",
    "                    hoverinfo='text')]\n",
    "\n",
    "layout = go.Layout(title = 'Contract_Info', width = 1000, height = 700,\n",
    "                    xaxis = dict(title='First Dimension'),\n",
    "                    yaxis = dict(title='Second Dimension'))\n",
    "fig = go.Figure(data=data, layout=layout)\n",
    "offline.plot(fig,filename='Contract_Info.html')"
   ]
  },
  {
   "cell_type": "markdown",
   "metadata": {
    "colab_type": "text",
    "id": "0EBsJykjjPTH"
   },
   "source": [
    "**SUBSET 3**"
   ]
  },
  {
   "cell_type": "code",
   "execution_count": 23,
   "metadata": {
    "colab": {},
    "colab_type": "code",
    "id": "MNUdf669jOT2"
   },
   "outputs": [
    {
     "data": {
      "image/png": "[encoded data removed]",
      "text/plain": [
       "<Figure size 432x288 with 1 Axes>"
      ]
     },
     "metadata": {
      "needs_background": "light"
     },
     "output_type": "display_data"
    }
   ],
   "source": [
    "#Security_Info\n",
    "# Finding the number of clusters (K) - Elbow Plot Method\n",
    "inertia = []\n",
    "for i in range(1,11):\n",
    "    kmeans = KMeans(n_clusters = i, random_state = 100)\n",
    "    kmeans.fit(X3)\n",
    "    inertia.append(kmeans.inertia_)\n",
    "\n",
    "plt.plot(range(1, 11), inertia)\n",
    "plt.title('The Elbow Plot')\n",
    "plt.xlabel('Number of clusters')\n",
    "plt.ylabel('Inertia')\n",
    "plt.show()"
   ]
  },
  {
   "cell_type": "code",
   "execution_count": 24,
   "metadata": {
    "colab": {},
    "colab_type": "code",
    "id": "LBT0c3q4jOOV"
   },
   "outputs": [
    {
     "data": {
      "text/plain": [
       "KMeans(algorithm='auto', copy_x=True, init='k-means++', max_iter=300,\n",
       "       n_clusters=2, n_init=10, n_jobs=None, precompute_distances='auto',\n",
       "       random_state=None, tol=0.0001, verbose=0)"
      ]
     },
     "execution_count": 24,
     "metadata": {},
     "output_type": "execute_result"
    }
   ],
   "source": [
    "#K-means\n",
    "kmeans = KMeans(n_clusters = 2)\n",
    "kmeans.fit(X3)"
   ]
  },
  {
   "cell_type": "code",
   "execution_count": 25,
   "metadata": {
    "colab": {},
    "colab_type": "code",
    "id": "6zpdbLAgjOMn"
   },
   "outputs": [
    {
     "data": {
      "text/plain": [
       "'Security_Info.html'"
      ]
     },
     "execution_count": 25,
     "metadata": {},
     "output_type": "execute_result"
    }
   ],
   "source": [
    "tsne = TSNE(n_components = 2, perplexity =30,n_iter=2000)\n",
    "x_tsne = tsne.fit_transform(X3)\n",
    "\n",
    "intServ = list(df['InternetService'])\n",
    "OnSec = list(df['OnlineSecurity'])\n",
    "onBU = list(df['OnlineBackup'])\n",
    "devPro = list(df['DeviceProtection'])\n",
    "\n",
    "data = [go.Scatter(x=x_tsne[:,0], y=x_tsne[:,1], mode='markers',\n",
    "                    marker = dict(color=kmeans.labels_, colorscale='Rainbow', opacity=0.5),\n",
    "                   text = [f'intServ:{a}; OnSec:{b}; onBU:{c}; devPro:{d}' for a,b,c,d in list (zip(intServ,OnSec,onBU,devPro))],\n",
    "                    hoverinfo='text')]\n",
    "\n",
    "layout = go.Layout(title = 'Security_Info', width = 1000, height = 700,\n",
    "                    xaxis = dict(title='First Dimension'),\n",
    "                    yaxis = dict(title='Second Dimension'))\n",
    "fig = go.Figure(data=data, layout=layout)\n",
    "offline.plot(fig,filename='Security_Info.html')"
   ]
  },
  {
   "cell_type": "markdown",
   "metadata": {
    "colab_type": "text",
    "id": "_cFev_mRizaF"
   },
   "source": [
    "**SUBSET 4**"
   ]
  },
  {
   "cell_type": "code",
   "execution_count": 26,
   "metadata": {
    "colab": {},
    "colab_type": "code",
    "id": "HGnDi0uVix-B"
   },
   "outputs": [
    {
     "data": {
      "image/png": "[encoded data removed]",
      "text/plain": [
       "<Figure size 432x288 with 1 Axes>"
      ]
     },
     "metadata": {
      "needs_background": "light"
     },
     "output_type": "display_data"
    }
   ],
   "source": [
    "#Streaming_Inf\n",
    "# Finding the number of clusters (K) - Elbow Plot Method\n",
    "inertia = []\n",
    "for i in range(1,11):\n",
    "    kmeans = KMeans(n_clusters = i, random_state = 100)\n",
    "    kmeans.fit(X4)\n",
    "    inertia.append(kmeans.inertia_)\n",
    "\n",
    "plt.plot(range(1, 11), inertia)\n",
    "plt.title('The Elbow Plot')\n",
    "plt.xlabel('Number of clusters')\n",
    "plt.ylabel('Inertia')\n",
    "plt.show()"
   ]
  },
  {
   "cell_type": "code",
   "execution_count": 27,
   "metadata": {
    "colab": {},
    "colab_type": "code",
    "id": "onfN98GLiyuA"
   },
   "outputs": [
    {
     "data": {
      "text/plain": [
       "KMeans(algorithm='auto', copy_x=True, init='k-means++', max_iter=300,\n",
       "       n_clusters=2, n_init=10, n_jobs=None, precompute_distances='auto',\n",
       "       random_state=None, tol=0.0001, verbose=0)"
      ]
     },
     "execution_count": 27,
     "metadata": {},
     "output_type": "execute_result"
    }
   ],
   "source": [
    "#K-means\n",
    "kmeans = KMeans(n_clusters = 2)\n",
    "kmeans.fit(X2)"
   ]
  },
  {
   "cell_type": "code",
   "execution_count": 28,
   "metadata": {
    "colab": {},
    "colab_type": "code",
    "id": "57B4dHTgiyE2"
   },
   "outputs": [
    {
     "data": {
      "text/plain": [
       "'Streaming_Info.html'"
      ]
     },
     "execution_count": 28,
     "metadata": {},
     "output_type": "execute_result"
    }
   ],
   "source": [
    "tsne = TSNE(n_components = 2, perplexity =30,n_iter=2000)\n",
    "x_tsne = tsne.fit_transform(X4)\n",
    "\n",
    "techSup = list(df['TechSupport'])\n",
    "TV = list(df['StreamingTV'])\n",
    "movies = list(df['StreamingMovies'])\n",
    "OnSec = list(df['OnlineSecurity'])\n",
    "onBU = list(df['OnlineBackup'])\n",
    "devPro = list(df['DeviceProtection'])\n",
    "intServ = list(df['InternetService'])\n",
    "\n",
    "\n",
    "data = [go.Scatter(x=x_tsne[:,0], y=x_tsne[:,1], mode='markers',\n",
    "                    marker = dict(color=kmeans.labels_, colorscale='Rainbow', opacity=0.5),\n",
    "                   text = [f'TV:{a}; movies:{b}; intServ:{c}; techSup:{d}, OnSec:{e}, onBU:{f}, devPro:{g}' for a,b,c,d,e,f,g in list (zip(TV,movies,intServ,techSup,OnSec,onBU,devPro))],\n",
    "                    hoverinfo='text')]\n",
    "\n",
    "layout = go.Layout(title = 'Streaming_Info', width = 1000, height = 700,\n",
    "                    xaxis = dict(title='First Dimension'),\n",
    "                    yaxis = dict(title='Second Dimension'))\n",
    "fig = go.Figure(data=data, layout=layout)\n",
    "offline.plot(fig,filename='Streaming_Info.html')"
   ]
  },
  {
   "cell_type": "markdown",
   "metadata": {
    "colab_type": "text",
    "id": "vcKD-ZTrijNd"
   },
   "source": [
    "**SUBSET 5**"
   ]
  },
  {
   "cell_type": "code",
   "execution_count": 29,
   "metadata": {
    "colab": {},
    "colab_type": "code",
    "id": "tAv2dwCYiiXw"
   },
   "outputs": [
    {
     "data": {
      "image/png": "[encoded data removed]",
      "text/plain": [
       "<Figure size 432x288 with 1 Axes>"
      ]
     },
     "metadata": {
      "needs_background": "light"
     },
     "output_type": "display_data"
    }
   ],
   "source": [
    "#Tenure_Info\n",
    "# Finding the number of clusters (K) - Elbow Plot Method\n",
    "inertia = []\n",
    "for i in range(1,11):\n",
    "    kmeans = KMeans(n_clusters = i, random_state = 100)\n",
    "    kmeans.fit(X5)\n",
    "    inertia.append(kmeans.inertia_)\n",
    "\n",
    "plt.plot(range(1, 11), inertia)\n",
    "plt.title('The Elbow Plot')\n",
    "plt.xlabel('Number of clusters')\n",
    "plt.ylabel('Inertia')\n",
    "plt.show()"
   ]
  },
  {
   "cell_type": "code",
   "execution_count": 30,
   "metadata": {
    "colab": {},
    "colab_type": "code",
    "id": "ektZrwHziiSV"
   },
   "outputs": [
    {
     "data": {
      "text/plain": [
       "KMeans(algorithm='auto', copy_x=True, init='k-means++', max_iter=300,\n",
       "       n_clusters=3, n_init=10, n_jobs=None, precompute_distances='auto',\n",
       "       random_state=None, tol=0.0001, verbose=0)"
      ]
     },
     "execution_count": 30,
     "metadata": {},
     "output_type": "execute_result"
    }
   ],
   "source": [
    "#K-means\n",
    "kmeans = KMeans(n_clusters = 3)\n",
    "kmeans.fit(X5)"
   ]
  },
  {
   "cell_type": "code",
   "execution_count": 31,
   "metadata": {
    "colab": {},
    "colab_type": "code",
    "id": "DAM8Ag2NiiRM"
   },
   "outputs": [
    {
     "data": {
      "text/plain": [
       "'Tenure_Info.html'"
      ]
     },
     "execution_count": 31,
     "metadata": {},
     "output_type": "execute_result"
    }
   ],
   "source": [
    "tsne = TSNE(n_components = 2, perplexity =30,n_iter=2000)\n",
    "x_tsne = tsne.fit_transform(X5)\n",
    "\n",
    "monchrg = list(df['MonthlyCharges'])\n",
    "intServ = list(df['InternetService'])\n",
    "OnSec = list(df['OnlineSecurity'])\n",
    "ten = list(df['tenure'])\n",
    "\n",
    "\n",
    "data = [go.Scatter(x=x_tsne[:,0], y=x_tsne[:,1], mode='markers',\n",
    "                    marker = dict(color=kmeans.labels_, colorscale='Rainbow', opacity=0.5),\n",
    "                   text = [f' ten:{a}; OnSec:{b}; intServ:{c}; monchrg:{d}' for a,b,c,d in list (zip(ten,OnSec,intServ,monchrg))],\n",
    "                    hoverinfo='text')]\n",
    "\n",
    "layout = go.Layout(title = 'Tenure_Info', width = 1000, height = 700,\n",
    "                    xaxis = dict(title='First Dimension'),\n",
    "                    yaxis = dict(title='Second Dimension'))\n",
    "fig = go.Figure(data=data, layout=layout)\n",
    "offline.plot(fig,filename='Tenure_Info.html')"
   ]
  },
  {
   "cell_type": "markdown",
   "metadata": {
    "colab_type": "text",
    "id": "2VX09wJMicoz"
   },
   "source": [
    "**SUBSET 6**"
   ]
  },
  {
   "cell_type": "code",
   "execution_count": 32,
   "metadata": {
    "colab": {},
    "colab_type": "code",
    "id": "SkJhVRbTho7t"
   },
   "outputs": [
    {
     "data": {
      "image/png": "[encoded data removed]",
      "text/plain": [
       "<Figure size 432x288 with 1 Axes>"
      ]
     },
     "metadata": {
      "needs_background": "light"
     },
     "output_type": "display_data"
    }
   ],
   "source": [
    "#Sec_charges\n",
    "# Finding the number of clusters (K) - Elbow Plot Method\n",
    "inertia = []\n",
    "for i in range(1,11):\n",
    "    kmeans = KMeans(n_clusters = i, random_state = 100)\n",
    "    kmeans.fit(X6)\n",
    "    inertia.append(kmeans.inertia_)\n",
    "\n",
    "plt.plot(range(1, 11), inertia)\n",
    "plt.title('The Elbow Plot')\n",
    "plt.xlabel('Number of clusters')\n",
    "plt.ylabel('Inertia')\n",
    "plt.show()"
   ]
  },
  {
   "cell_type": "code",
   "execution_count": 33,
   "metadata": {
    "colab": {},
    "colab_type": "code",
    "id": "qiJM8FK6hoVI"
   },
   "outputs": [
    {
     "data": {
      "text/plain": [
       "KMeans(algorithm='auto', copy_x=True, init='k-means++', max_iter=300,\n",
       "       n_clusters=2, n_init=10, n_jobs=None, precompute_distances='auto',\n",
       "       random_state=None, tol=0.0001, verbose=0)"
      ]
     },
     "execution_count": 33,
     "metadata": {},
     "output_type": "execute_result"
    }
   ],
   "source": [
    "#K-means\n",
    "kmeans = KMeans(n_clusters = 2)\n",
    "kmeans.fit(X6)"
   ]
  },
  {
   "cell_type": "code",
   "execution_count": 34,
   "metadata": {
    "colab": {},
    "colab_type": "code",
    "id": "0E_G9_U7hoTv"
   },
   "outputs": [
    {
     "data": {
      "text/plain": [
       "'Sec_ten.html'"
      ]
     },
     "execution_count": 34,
     "metadata": {},
     "output_type": "execute_result"
    }
   ],
   "source": [
    "tsne = TSNE(n_components = 2, perplexity =50,n_iter=2000)\n",
    "x_tsne = tsne.fit_transform(X6)\n",
    "\n",
    "\n",
    "OnSec = list(df['OnlineSecurity'])\n",
    "onBU = list(df['OnlineBackup'])\n",
    "devPro = list(df['DeviceProtection'])\n",
    "ten = list(df['tenure'])\n",
    "\n",
    "\n",
    "\n",
    "data = [go.Scatter(x=x_tsne[:,0], y=x_tsne[:,1], mode='markers',\n",
    "                    marker = dict(color=kmeans.labels_, colorscale='Rainbow', opacity=0.5),\n",
    "                   text = [f'OnSec:{a}; onBU:{b}; devPro:{c}; ten:{d}' for a,b,c,d in list (zip(OnSec,onBU,devPro,ten))],\n",
    "                    hoverinfo='text')]\n",
    "\n",
    "layout = go.Layout(title = 'Sec_ten', width = 1000, height = 700,\n",
    "                    xaxis = dict(title='First Dimension'),\n",
    "                    yaxis = dict(title='Second Dimension'))\n",
    "fig = go.Figure(data=data, layout=layout)\n",
    "offline.plot(fig,filename='Sec_ten.html')"
   ]
  },
  {
   "cell_type": "markdown",
   "metadata": {
    "colab_type": "text",
    "id": "lUb5gIzQoD4B"
   },
   "source": [
    "**SUBSET 7**"
   ]
  },
  {
   "cell_type": "code",
   "execution_count": 35,
   "metadata": {
    "colab": {},
    "colab_type": "code",
    "id": "POvc7pJIoOld"
   },
   "outputs": [
    {
     "data": {
      "image/png": "[encoded data removed]",
      "text/plain": [
       "<Figure size 432x288 with 1 Axes>"
      ]
     },
     "metadata": {
      "needs_background": "light"
     },
     "output_type": "display_data"
    }
   ],
   "source": [
    "#Sec_charges\n",
    "# Finding the number of clusters (K) - Elbow Plot Method\n",
    "inertia = []\n",
    "for i in range(1,11):\n",
    "    kmeans = KMeans(n_clusters = i, random_state = 100)\n",
    "    kmeans.fit(X7)\n",
    "    inertia.append(kmeans.inertia_)\n",
    "\n",
    "plt.plot(range(1, 11), inertia)\n",
    "plt.title('The Elbow Plot')\n",
    "plt.xlabel('Number of clusters')\n",
    "plt.ylabel('Inertia')\n",
    "plt.show()"
   ]
  },
  {
   "cell_type": "code",
   "execution_count": 36,
   "metadata": {
    "colab": {},
    "colab_type": "code",
    "id": "X1ad5hZ6oOgn"
   },
   "outputs": [
    {
     "data": {
      "text/plain": [
       "KMeans(algorithm='auto', copy_x=True, init='k-means++', max_iter=300,\n",
       "       n_clusters=3, n_init=10, n_jobs=None, precompute_distances='auto',\n",
       "       random_state=None, tol=0.0001, verbose=0)"
      ]
     },
     "execution_count": 36,
     "metadata": {},
     "output_type": "execute_result"
    }
   ],
   "source": [
    "#K-means\n",
    "kmeans = KMeans(n_clusters = 3)\n",
    "kmeans.fit(X7)"
   ]
  },
  {
   "cell_type": "code",
   "execution_count": 37,
   "metadata": {
    "colab": {},
    "colab_type": "code",
    "id": "BSy6GaLBoOfe"
   },
   "outputs": [
    {
     "data": {
      "text/plain": [
       "'loyalty.html'"
      ]
     },
     "execution_count": 37,
     "metadata": {},
     "output_type": "execute_result"
    }
   ],
   "source": [
    "tsne = TSNE(n_components = 2, perplexity =50,n_iter=2000)\n",
    "x_tsne = tsne.fit_transform(X7)\n",
    "\n",
    "\n",
    "ten = list(df['tenure'])\n",
    "phoneS = list(df['PhoneService'])\n",
    "Mlines = list(df['MultipleLines'])\n",
    "intServ = list(df['InternetService'])\n",
    "\n",
    "\n",
    "\n",
    "data = [go.Scatter(x=x_tsne[:,0], y=x_tsne[:,1], mode='markers',\n",
    "                    marker = dict(color=kmeans.labels_, colorscale='Rainbow', opacity=0.5),\n",
    "                   text = [f'ten:{a}; phoneS:{b}; Mlines:{c}; intServ:{d}' for a,b,c,d in list (zip(ten,phoneS,Mlines,intServ))],\n",
    "                    hoverinfo='text')]\n",
    "\n",
    "layout = go.Layout(title = 'loyalty', width = 1000, height = 700,\n",
    "                    xaxis = dict(title='First Dimension'),\n",
    "                    yaxis = dict(title='Second Dimension'))\n",
    "fig = go.Figure(data=data, layout=layout)\n",
    "offline.plot(fig,filename='loyalty.html')"
   ]
  },
  {
   "cell_type": "markdown",
   "metadata": {
    "colab_type": "text",
    "id": "5lDgffTiqRo2"
   },
   "source": [
    "**SUBSET 8**"
   ]
  },
  {
   "cell_type": "code",
   "execution_count": 38,
   "metadata": {
    "colab": {},
    "colab_type": "code",
    "id": "yCLA8iOrqVma"
   },
   "outputs": [
    {
     "data": {
      "image/png": "[encoded data removed]",
      "text/plain": [
       "<Figure size 432x288 with 1 Axes>"
      ]
     },
     "metadata": {
      "needs_background": "light"
     },
     "output_type": "display_data"
    }
   ],
   "source": [
    "#Sec_charges\n",
    "# Finding the number of clusters (K) - Elbow Plot Method\n",
    "inertia = []\n",
    "for i in range(1,11):\n",
    "    kmeans = KMeans(n_clusters = i, random_state = 100)\n",
    "    kmeans.fit(X8)\n",
    "    inertia.append(kmeans.inertia_)\n",
    "\n",
    "plt.plot(range(1, 11), inertia)\n",
    "plt.title('The Elbow Plot')\n",
    "plt.xlabel('Number of clusters')\n",
    "plt.ylabel('Inertia')\n",
    "plt.show()"
   ]
  },
  {
   "cell_type": "code",
   "execution_count": 39,
   "metadata": {
    "colab": {},
    "colab_type": "code",
    "id": "rltwgtH7qWMK"
   },
   "outputs": [
    {
     "data": {
      "text/plain": [
       "KMeans(algorithm='auto', copy_x=True, init='k-means++', max_iter=300,\n",
       "       n_clusters=2, n_init=10, n_jobs=None, precompute_distances='auto',\n",
       "       random_state=None, tol=0.0001, verbose=0)"
      ]
     },
     "execution_count": 39,
     "metadata": {},
     "output_type": "execute_result"
    }
   ],
   "source": [
    "#K-means\n",
    "kmeans = KMeans(n_clusters = 2)\n",
    "kmeans.fit(X8)"
   ]
  },
  {
   "cell_type": "code",
   "execution_count": 40,
   "metadata": {
    "colab": {},
    "colab_type": "code",
    "id": "OI2hwaC7qV_O"
   },
   "outputs": [
    {
     "data": {
      "text/plain": [
       "'Sub_Info.html'"
      ]
     },
     "execution_count": 40,
     "metadata": {},
     "output_type": "execute_result"
    }
   ],
   "source": [
    "tsne = TSNE(n_components = 2, perplexity =30,n_iter=2000)\n",
    "x_tsne = tsne.fit_transform(X8)\n",
    "\n",
    "\n",
    "phoneS = list(df['PhoneService'])\n",
    "Mlines = list(df['MultipleLines'])\n",
    "Cont = list(df['Contract'])\n",
    "paymetd = list(df['PaymentMethod'])\n",
    "\n",
    "\n",
    "\n",
    "\n",
    "data = [go.Scatter(x=x_tsne[:,0], y=x_tsne[:,1], mode='markers',\n",
    "                    marker = dict(color=kmeans.labels_, colorscale='Rainbow', opacity=0.5),\n",
    "                   text = [f'phoneS:{a}; Mlines:{b}; Cont:{c}; paymetd:{d}' for a,b,c,d in list (zip(phoneS,Mlines,Cont,paymetd))],\n",
    "                    hoverinfo='text')]\n",
    "\n",
    "layout = go.Layout(title = 'Sub_Info', width = 1000, height = 700,\n",
    "                    xaxis = dict(title='First Dimension'),\n",
    "                    yaxis = dict(title='Second Dimension'))\n",
    "fig = go.Figure(data=data, layout=layout)\n",
    "offline.plot(fig,filename='Sub_Info.html')"
   ]
  }
 ],
 "metadata": {
  "colab": {
   "collapsed_sections": [],
   "name": "QUESTION 2.ipynb",
   "provenance": []
  },
  "kernelspec": {
   "display_name": "Python 3",
   "language": "python",
   "name": "python3"
  },
  "language_info": {
   "codemirror_mode": {
    "name": "ipython",
    "version": 3
   },
   "file_extension": ".py",
   "mimetype": "text/x-python",
   "name": "python",
   "nbconvert_exporter": "python",
   "pygments_lexer": "ipython3",
   "version": "3.7.6"
  }
 },
 "nbformat": 4,
 "nbformat_minor": 1
}
