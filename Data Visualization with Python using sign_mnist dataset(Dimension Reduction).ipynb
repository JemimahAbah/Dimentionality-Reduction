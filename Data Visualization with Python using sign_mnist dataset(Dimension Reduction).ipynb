{
 "cells": [
  {
   "cell_type": "code",
   "execution_count": 1,
   "metadata": {
    "colab": {},
    "colab_type": "code",
    "id": "oPiEw2iRKvcl"
   },
   "outputs": [],
   "source": [
    "#im neccessary libraries\n",
    "import numpy as np\n",
    "import pandas as pd\n",
    "from sklearn.preprocessing import LabelEncoder\n",
    "from sklearn.preprocessing import StandardScaler\n",
    "from sklearn.decomposition import PCA\n",
    "from sklearn.manifold import TSNE\n",
    "import plotly.graph_objs as go\n",
    "import plotly .offline as offline\n",
    "import plotly.figure_factory as ff\n",
    "import umap "
   ]
  },
  {
   "cell_type": "markdown",
   "metadata": {
    "colab_type": "text",
    "id": "8VZkmTz0NqFX"
   },
   "source": [
    "**LOADING AND EXAMINING DATASET**"
   ]
  },
  {
   "cell_type": "code",
   "execution_count": 2,
   "metadata": {
    "colab": {},
    "colab_type": "code",
    "id": "jdN0OwVgMCv9"
   },
   "outputs": [],
   "source": [
    "##LOAD THE DATA\n",
    "df=pd.read_csv('sign_mnist.csv')"
   ]
  },
  {
   "cell_type": "code",
   "execution_count": 3,
   "metadata": {
    "colab": {
     "base_uri": "https://localhost:8080/",
     "height": 153
    },
    "colab_type": "code",
    "id": "wqbP9tqzMC1R",
    "outputId": "401d470c-e332-4df3-c75f-e877896c997e"
   },
   "outputs": [
    {
     "name": "stdout",
     "output_type": "stream",
     "text": [
      "   label  pixel1  pixel2  pixel3  pixel4  pixel5  pixel6  pixel7  pixel8  \\\n",
      "0      3     107     118     127     134     139     143     146     150   \n",
      "1      6     155     157     156     156     156     157     156     158   \n",
      "2      2     187     188     188     187     187     186     187     188   \n",
      "3      2     211     211     212     212     211     210     211     210   \n",
      "4     13     164     167     170     172     176     179     180     184   \n",
      "\n",
      "   pixel9  ...  pixel775  pixel776  pixel777  pixel778  pixel779  pixel780  \\\n",
      "0     153  ...       207       207       207       207       206       206   \n",
      "1     158  ...        69       149       128        87        94       163   \n",
      "2     187  ...       202       201       200       199       198       199   \n",
      "3     210  ...       235       234       233       231       230       226   \n",
      "4     185  ...        92       105       105       108       133       163   \n",
      "\n",
      "   pixel781  pixel782  pixel783  pixel784  \n",
      "0       206       204       203       202  \n",
      "1       175       103       135       149  \n",
      "2       198       195       194       195  \n",
      "3       225       222       229       163  \n",
      "4       157       163       164       179  \n",
      "\n",
      "[5 rows x 785 columns]\n"
     ]
    }
   ],
   "source": [
    "#view first five data sets\n",
    "print(df.head(5))"
   ]
  },
  {
   "cell_type": "code",
   "execution_count": 4,
   "metadata": {
    "colab": {
     "base_uri": "https://localhost:8080/",
     "height": 153
    },
    "colab_type": "code",
    "id": "ST5yCR43MC7c",
    "outputId": "fc232942-3159-496f-e170-e1a31030ac4e"
   },
   "outputs": [
    {
     "name": "stdout",
     "output_type": "stream",
     "text": [
      "      label  pixel1  pixel2  pixel3  pixel4  pixel5  pixel6  pixel7  pixel8  \\\n",
      "9995     23     152     153     155     157     158     158     158     159   \n",
      "9996     10      45      46      50      50      58      76      92     105   \n",
      "9997     24     128     133     135     138     142     148     152     155   \n",
      "9998      5     164     165     167     169     169     170     170     170   \n",
      "9999     22     146     150     152     156     161     165     168     171   \n",
      "\n",
      "      pixel9  ...  pixel775  pixel776  pixel777  pixel778  pixel779  pixel780  \\\n",
      "9995     160  ...       217       217       217       216       216       215   \n",
      "9996     110  ...        63        60        58        91        98        97   \n",
      "9997     159  ...       216       216       215       215       215       214   \n",
      "9998     171  ...       198       192       192       192       190       189   \n",
      "9999     173  ...       190       180       181       181       181       180   \n",
      "\n",
      "      pixel781  pixel782  pixel783  pixel784  \n",
      "9995       215       214       214       214  \n",
      "9996        97        95       128        99  \n",
      "9997       212       211       210       209  \n",
      "9998       186       185       184       183  \n",
      "9999       181       181       179       178  \n",
      "\n",
      "[5 rows x 785 columns]\n"
     ]
    }
   ],
   "source": [
    "#view last five datasets\n",
    "print(df.tail(5))"
   ]
  },
  {
   "cell_type": "code",
   "execution_count": 5,
   "metadata": {
    "colab": {
     "base_uri": "https://localhost:8080/",
     "height": 34
    },
    "colab_type": "code",
    "id": "i3P83FuTMDBh",
    "outputId": "58ec1065-1f93-4069-ea0e-cd177a889c6b"
   },
   "outputs": [
    {
     "name": "stdout",
     "output_type": "stream",
     "text": [
      "(10000, 785)\n"
     ]
    }
   ],
   "source": [
    "##view the shape of dataset\n",
    "print(df.shape)"
   ]
  },
  {
   "cell_type": "code",
   "execution_count": 6,
   "metadata": {
    "colab": {
     "base_uri": "https://localhost:8080/",
     "height": 119
    },
    "colab_type": "code",
    "id": "yFa8xWzrSRuy",
    "outputId": "f61bf3bc-9570-4fe8-cd33-acf8987adc43"
   },
   "outputs": [
    {
     "name": "stdout",
     "output_type": "stream",
     "text": [
      "<class 'pandas.core.frame.DataFrame'>\n",
      "RangeIndex: 10000 entries, 0 to 9999\n",
      "Columns: 785 entries, label to pixel784\n",
      "dtypes: int64(785)\n",
      "memory usage: 59.9 MB\n",
      "None\n"
     ]
    }
   ],
   "source": [
    "##get a concise summary of the dataframe\n",
    "print(df.info())"
   ]
  },
  {
   "cell_type": "code",
   "execution_count": 7,
   "metadata": {
    "colab": {
     "base_uri": "https://localhost:8080/",
     "height": 204
    },
    "colab_type": "code",
    "id": "BzIbtEjTMDGs",
    "outputId": "ed5eef5d-0ec2-43ee-82be-165728e1b17a"
   },
   "outputs": [
    {
     "name": "stdout",
     "output_type": "stream",
     "text": [
      "              label        pixel1        pixel2        pixel3        pixel4  \\\n",
      "count  10000.000000  10000.000000  10000.000000  10000.000000  10000.000000   \n",
      "mean      12.310400    145.790700    148.925500    151.665400    153.926200   \n",
      "std        7.294599     41.912797     40.381637     39.506239     39.041027   \n",
      "min        0.000000      0.000000      0.000000      0.000000      0.000000   \n",
      "25%        6.000000    122.000000    126.000000    130.000000    134.000000   \n",
      "50%       13.000000    151.000000    153.000000    156.000000    158.000000   \n",
      "75%       19.000000    175.000000    177.000000    178.000000    180.000000   \n",
      "max       24.000000    255.000000    255.000000    255.000000    255.000000   \n",
      "\n",
      "             pixel5        pixel6        pixel7        pixel8       pixel9  \\\n",
      "count  10000.000000  10000.000000  10000.000000  10000.000000  10000.00000   \n",
      "mean     156.552100    158.785700    160.857700    162.736700    164.38930   \n",
      "std       37.581143     36.483754     35.328474     34.012284     32.90975   \n",
      "min        0.000000      0.000000      0.000000      0.000000      0.00000   \n",
      "25%      137.000000    140.000000    142.000000    145.000000    147.00000   \n",
      "50%      160.000000    162.000000    164.000000    165.000000    166.00000   \n",
      "75%      181.000000    182.000000    183.000000    185.000000    185.00000   \n",
      "max      255.000000    255.000000    255.000000    255.000000    255.00000   \n",
      "\n",
      "       ...      pixel775      pixel776      pixel777      pixel778  \\\n",
      "count  ...  10000.000000  10000.000000  10000.000000  10000.000000   \n",
      "mean   ...    142.488000    148.231100    153.944600    159.510700   \n",
      "std    ...     63.704707     65.133155     63.951816     63.433479   \n",
      "min    ...      0.000000      0.000000      0.000000      0.000000   \n",
      "25%    ...     93.000000     96.000000    103.000000    112.000000   \n",
      "50%    ...    146.000000    163.000000    173.000000    180.000000   \n",
      "75%    ...    197.250000    202.000000    205.000000    207.000000   \n",
      "max    ...    255.000000    255.000000    255.000000    255.000000   \n",
      "\n",
      "           pixel779     pixel780      pixel781      pixel782      pixel783  \\\n",
      "count  10000.000000  10000.00000  10000.000000  10000.000000  10000.000000   \n",
      "mean     162.582200    163.36260    163.515200    162.574300    161.709500   \n",
      "std       63.231817     63.04141     63.028322     62.699386     63.005796   \n",
      "min        0.000000      0.00000      0.000000      0.000000      0.000000   \n",
      "25%      122.000000    126.00000    130.000000    130.000000    130.000000   \n",
      "50%      183.000000    184.00000    184.000000    183.000000    182.000000   \n",
      "75%      208.000000    207.00000    207.000000    205.000000    204.000000   \n",
      "max      255.000000    255.00000    255.000000    255.000000    255.000000   \n",
      "\n",
      "           pixel784  \n",
      "count  10000.000000  \n",
      "mean     160.692500  \n",
      "std       63.559782  \n",
      "min        0.000000  \n",
      "25%      129.000000  \n",
      "50%      182.000000  \n",
      "75%      204.000000  \n",
      "max      255.000000  \n",
      "\n",
      "[8 rows x 785 columns]\n"
     ]
    }
   ],
   "source": [
    "##compute a summary of statistics pertaining to the DataFrame columns using describe()\n",
    "print(df.describe())"
   ]
  },
  {
   "cell_type": "markdown",
   "metadata": {
    "colab_type": "text",
    "id": "Wcsgx6qPTA7m"
   },
   "source": [
    "**DIVIDING DATASET INTO TARGET AND FEATURE VARIABLES**"
   ]
  },
  {
   "cell_type": "code",
   "execution_count": 8,
   "metadata": {
    "colab": {},
    "colab_type": "code",
    "id": "pB-0xGxVMDRm"
   },
   "outputs": [],
   "source": [
    "##target variable(depenednt variable, target)\n",
    "target=df['label']"
   ]
  },
  {
   "cell_type": "code",
   "execution_count": 9,
   "metadata": {
    "colab": {},
    "colab_type": "code",
    "id": "46--8VxNMDMk"
   },
   "outputs": [],
   "source": [
    "#feature variables(independent variables, Y)\n",
    "X=df.drop(['label'],axis=1)"
   ]
  },
  {
   "cell_type": "code",
   "execution_count": 10,
   "metadata": {
    "colab": {
     "base_uri": "https://localhost:8080/",
     "height": 85
    },
    "colab_type": "code",
    "id": "BdqmJEGLMDLg",
    "outputId": "585d9a95-b393-47ac-9631-23bbe6b2ebf5"
   },
   "outputs": [
    {
     "name": "stdout",
     "output_type": "stream",
     "text": [
      "<class 'pandas.core.series.Series'>\n",
      "<class 'pandas.core.frame.DataFrame'>\n",
      "(10000,)\n",
      "(10000, 784)\n"
     ]
    }
   ],
   "source": [
    "print(type(target))\n",
    "print(type(X))\n",
    "print(target.shape)\n",
    "print(X.shape)"
   ]
  },
  {
   "cell_type": "markdown",
   "metadata": {
    "colab_type": "text",
    "id": "IjB8EapsVgxk"
   },
   "source": [
    "**NORMALIZE NUMERICAL FEATURES**"
   ]
  },
  {
   "cell_type": "code",
   "execution_count": 11,
   "metadata": {
    "colab": {},
    "colab_type": "code",
    "id": "ULUJBweuMDFk"
   },
   "outputs": [],
   "source": [
    "# Normalizing numerical features so that each feature has mean 0 and variance 1\n",
    "feature_scaler = StandardScaler()\n",
    "X_scaled = feature_scaler.fit_transform(X)"
   ]
  },
  {
   "cell_type": "markdown",
   "metadata": {
    "colab_type": "text",
    "id": "LS39xD54V8zG"
   },
   "source": [
    "**IMPLENENTING DIMENSIONALITY REDUCTION**"
   ]
  },
  {
   "cell_type": "code",
   "execution_count": 12,
   "metadata": {
    "colab": {},
    "colab_type": "code",
    "id": "piAYgWnbMDAe"
   },
   "outputs": [],
   "source": [
    "##Implementing UMAP to visualize dataset\n",
    "u = umap.UMAP(n_neighbors=15, min_dist=0.1)\n",
    "x_umap = u.fit_transform(X_scaled)"
   ]
  },
  {
   "cell_type": "code",
   "execution_count": 13,
   "metadata": {
    "colab": {},
    "colab_type": "code",
    "id": "lluB_an1MC6t"
   },
   "outputs": [],
   "source": [
    "##convert label from series to list\n",
    "Sign=list(df['label'])"
   ]
  },
  {
   "cell_type": "code",
   "execution_count": 14,
   "metadata": {
    "colab": {
     "base_uri": "https://localhost:8080/",
     "height": 35
    },
    "colab_type": "code",
    "id": "3YQkmSJTMC0g",
    "outputId": "e6804fc6-443d-489b-8e9f-0d7a640f36b8"
   },
   "outputs": [
    {
     "data": {
      "text/plain": [
       "'Signs.html'"
      ]
     },
     "execution_count": 14,
     "metadata": {},
     "output_type": "execute_result"
    }
   ],
   "source": [
    "#implementing UMAP\n",
    "data = [go.Scatter(x=x_umap[:,0], y=x_umap[:,1], mode='markers',\n",
    "                    marker = dict(color=target, colorscale='Rainbow', opacity=0.5),\n",
    "                                text=[f'Sign: {a}' for a in Sign],\n",
    "                                hoverinfo='text')]\n",
    "\n",
    "layout = go.Layout(title = 'UMAP Signs', width = 700, height = 700,\n",
    "                    xaxis = dict(title='First Dimension'),\n",
    "                    yaxis = dict(title='Second Dimension'))\n",
    "fig = go.Figure(data=data, layout=layout)\n",
    "offline.plot(fig,filename='Signs.html')\n"
   ]
  },
  {
   "cell_type": "code",
   "execution_count": 16,
   "metadata": {},
   "outputs": [
    {
     "data": {
      "text/plain": [
       "'t-SNE Signs.html'"
      ]
     },
     "execution_count": 16,
     "metadata": {},
     "output_type": "execute_result"
    }
   ],
   "source": [
    "#implementing TSNE\n",
    "tsne = TSNE(n_components = 2, perplexity = 20, n_iter = 2000)\n",
    "x_tsne = tsne.fit_transform(X_scaled)\n",
    "\n",
    "data = [go.Scatter(x=x_tsne[:,0], y=x_tsne[:,1], mode='markers',\n",
    "                    marker = dict(color=target, colorscale='Rainbow', opacity=0.5),\n",
    "                                text=[f'Sign: {a}' for a in Sign],\n",
    "                                hoverinfo='text')]\n",
    "\n",
    "layout = go.Layout(title = 't-SNE Signs', width = 700, height = 700,\n",
    "                    xaxis = dict(title='First Dimension'),\n",
    "                    yaxis = dict(title='Second Dimension'))\n",
    "fig = go.Figure(data=data, layout=layout)\n",
    "offline.plot(fig,filename='t-SNE Signs.html')\n"
   ]
  },
  {
   "cell_type": "code",
   "execution_count": null,
   "metadata": {},
   "outputs": [],
   "source": []
  },
  {
   "cell_type": "code",
   "execution_count": null,
   "metadata": {},
   "outputs": [],
   "source": []
  }
 ],
 "metadata": {
  "colab": {
   "collapsed_sections": [],
   "name": "QUESTION 1.ipynb",
   "provenance": []
  },
  "kernelspec": {
   "display_name": "Python 3",
   "language": "python",
   "name": "python3"
  },
  "language_info": {
   "codemirror_mode": {
    "name": "ipython",
    "version": 3
   },
   "file_extension": ".py",
   "mimetype": "text/x-python",
   "name": "python",
   "nbconvert_exporter": "python",
   "pygments_lexer": "ipython3",
   "version": "3.7.6"
  }
 },
 "nbformat": 4,
 "nbformat_minor": 1
}
